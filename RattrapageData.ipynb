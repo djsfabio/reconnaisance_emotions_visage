{
 "cells": [
  {
   "cell_type": "markdown",
   "metadata": {
    "id": "mdLh_2P9AC0E",
    "scrolled": false
   },
   "source": [
    "# Import des bibliothèques"
   ]
  },
  {
   "cell_type": "code",
   "execution_count": 1,
   "metadata": {},
   "outputs": [],
   "source": [
    "import pandas as pd\n",
    "import numpy as np\n",
    "import cv2\n",
    "import tensorflow as tf\n",
    "import os\n",
    "\n",
    "from tensorflow.keras.optimizers import Adam\n",
    "from tensorflow.keras.layers import Dense, Flatten, Conv2D\n",
    "from tensorflow.keras import Model\n",
    "from PIL import Image\n",
    "\n",
    "from tensorflow import keras\n",
    "from tensorflow.keras import layers\n",
    "from tensorflow.keras import Sequential\n",
    "from tensorflow.keras.optimizers import Adam\n",
    "from keras.layers.normalization import BatchNormalization\n",
    "from tensorflow.keras.layers import Conv2D, MaxPooling2D\n",
    "from tensorflow.keras.layers import Dropout\n",
    "\n",
    "from sklearn.model_selection import train_test_split"
   ]
  },
  {
   "cell_type": "code",
   "execution_count": 2,
   "metadata": {},
   "outputs": [
    {
     "data": {
      "text/html": [
       "<style>.container { width:100% !important; }</style>"
      ],
      "text/plain": [
       "<IPython.core.display.HTML object>"
      ]
     },
     "metadata": {},
     "output_type": "display_data"
    }
   ],
   "source": [
    "from IPython.core.display import display, HTML\n",
    "display(HTML(\"<style>.container { width:100% !important; }</style>\"))"
   ]
  },
  {
   "cell_type": "markdown",
   "metadata": {
    "id": "tXuKSxjXeCwk"
   },
   "source": [
    "## Importation des données"
   ]
  },
  {
   "cell_type": "markdown",
   "metadata": {
    "id": "MxRx8OUceCwk"
   },
   "source": [
    "### import angry"
   ]
  },
  {
   "cell_type": "code",
   "execution_count": null,
   "metadata": {
    "id": "cXicNreiG7Ct"
   },
   "outputs": [],
   "source": [
    "header = [str(i) for i in range(2304)]"
   ]
  },
  {
   "cell_type": "code",
   "execution_count": null,
   "metadata": {
    "id": "cXicNreiG7Ct"
   },
   "outputs": [],
   "source": [
    "dfAngryTrain = pd.DataFrame(np.array([0 for i in range(2304)]))\n",
    "dfAngryTrain = dfAngryTrain.T\n",
    "for element in os.listdir('/Users/fabiodjs/Desktop/ProjetLaure/Dossier/archive/train/angry'):\n",
    "    img = Image.open('/Users/fabiodjs/Desktop/ProjetLaure/Dossier/archive/train/angry/'+element)\n",
    "    dfAngryTrain = pd.concat([dfAngryTrain,pd.DataFrame(np.array(img.getdata())).T])"
   ]
  },
  {
   "cell_type": "code",
   "execution_count": null,
   "metadata": {},
   "outputs": [],
   "source": [
    "dfAngryTest = pd.DataFrame(np.array([0 for i in range(2304)]))\n",
    "dfAngryTest = dfAngryTest.T\n",
    "for element in os.listdir('/Users/fabiodjs/Desktop/ProjetLaure/Dossier/archive/test/angry'):\n",
    "    img = Image.open('/Users/fabiodjs/Desktop/ProjetLaure/Dossier/archive/test/angry/'+element)\n",
    "    dfAngryTest = pd.concat([dfAngryTest,pd.DataFrame(np.array(img.getdata())).T])"
   ]
  },
  {
   "cell_type": "code",
   "execution_count": null,
   "metadata": {
    "id": "rko6yZxVeCwl",
    "scrolled": false
   },
   "outputs": [],
   "source": [
    "dfAngryTrain[\"target\"] = 0 \n",
    "dfAngryTest[\"target\"] = 0 "
   ]
  },
  {
   "cell_type": "code",
   "execution_count": null,
   "metadata": {
    "id": "mK-HBYdueCwm",
    "outputId": "bfe92938-f18a-4e79-c850-b9f3d6422a13"
   },
   "outputs": [],
   "source": [
    "dfAngryTrain = dfAngryTrain.reset_index()\n",
    "dfAngryTrain"
   ]
  },
  {
   "cell_type": "code",
   "execution_count": null,
   "metadata": {},
   "outputs": [],
   "source": [
    "dfAngryTest = dfAngryTest.reset_index()\n",
    "dfAngryTest"
   ]
  },
  {
   "cell_type": "markdown",
   "metadata": {
    "id": "nRcLe8tNeCwm"
   },
   "source": [
    "### import Disgust"
   ]
  },
  {
   "cell_type": "code",
   "execution_count": null,
   "metadata": {
    "id": "PgfQb0qaeCwn"
   },
   "outputs": [],
   "source": [
    "dfDisgustTrain = pd.DataFrame(np.array([0 for i in range(2304)]))\n",
    "dfDisgustTrain = dfDisgustTrain.T\n",
    "for element in os.listdir('/Users/fabiodjs/Desktop/ProjetLaure/Dossier/archive/train/disgust'):\n",
    "    img = Image.open('/Users/fabiodjs/Desktop/ProjetLaure/Dossier/archive/train/disgust/'+element)\n",
    "    dfDisgustTrain = pd.concat([dfDisgustTrain,pd.DataFrame(np.array(img.getdata())).T])"
   ]
  },
  {
   "cell_type": "code",
   "execution_count": null,
   "metadata": {},
   "outputs": [],
   "source": [
    "dfDisgustTest = pd.DataFrame(np.array([0 for i in range(2304)]))\n",
    "dfDisgustTest = dfDisgustTest.T\n",
    "for element in os.listdir('/Users/fabiodjs/Desktop/ProjetLaure/Dossier/archive/test/disgust'):\n",
    "    img = Image.open('/Users/fabiodjs/Desktop/ProjetLaure/Dossier/archive/test/disgust/'+element)\n",
    "    dfDisgustTest = pd.concat([dfDisgustTest,pd.DataFrame(np.array(img.getdata())).T])"
   ]
  },
  {
   "cell_type": "code",
   "execution_count": null,
   "metadata": {
    "id": "hE3OwrpeeCwn"
   },
   "outputs": [],
   "source": [
    "dfDisgustTrain[\"target\"] = 1 \n",
    "dfDisgustTest[\"target\"] = 1 "
   ]
  },
  {
   "cell_type": "code",
   "execution_count": null,
   "metadata": {
    "id": "8oeo4mpWeCwn",
    "outputId": "085d89be-f0af-492e-c110-0b782f23caad"
   },
   "outputs": [],
   "source": [
    "dfDisgustTrain = dfDisgustTrain.reset_index()\n",
    "dfDisgustTrain"
   ]
  },
  {
   "cell_type": "code",
   "execution_count": null,
   "metadata": {},
   "outputs": [],
   "source": [
    "dfDisgustTest = dfDisgustTest.reset_index()\n",
    "dfDisgustTest"
   ]
  },
  {
   "cell_type": "markdown",
   "metadata": {
    "id": "3qUrkCaSeCwo"
   },
   "source": [
    "### import Fear"
   ]
  },
  {
   "cell_type": "code",
   "execution_count": 10,
   "metadata": {
    "id": "PQA4gDvDeCwo"
   },
   "outputs": [],
   "source": [
    "dfFearTrain = pd.DataFrame(np.array([0 for i in range(2304)]))\n",
    "dfFearTrain = dfFearTrain.T\n",
    "for element in os.listdir('/Users/fabiodjs/Desktop/ProjetLaure/Dossier/archive/train/fear'):\n",
    "    img = Image.open('/Users/fabiodjs/Desktop/ProjetLaure/Dossier/archive/train/fear/'+element)\n",
    "    dfFearTrain = pd.concat([dfFearTrain,pd.DataFrame(np.array(img.getdata())).T])"
   ]
  },
  {
   "cell_type": "code",
   "execution_count": null,
   "metadata": {},
   "outputs": [],
   "source": [
    "dfFearTest = pd.DataFrame(np.array([0 for i in range(2304)]))\n",
    "dfFearTest = dfFearTest.T\n",
    "for element in os.listdir('/Users/fabiodjs/Desktop/ProjetLaure/Dossier/archive/test/fear'):\n",
    "    img = Image.open('/Users/fabiodjs/Desktop/ProjetLaure/Dossier/archive/test/fear/'+element)\n",
    "    dfFearTest = pd.concat([dfFearTest,pd.DataFrame(np.array(img.getdata())).T])"
   ]
  },
  {
   "cell_type": "code",
   "execution_count": null,
   "metadata": {
    "id": "qD732CAweCwo"
   },
   "outputs": [],
   "source": [
    "dfFearTrain[\"target\"] = 2\n",
    "dfFearTest[\"target\"] = 2 "
   ]
  },
  {
   "cell_type": "code",
   "execution_count": null,
   "metadata": {
    "id": "sYX2JlG_eCwo",
    "outputId": "621b99cd-345b-4343-ee05-b1c9e1625422"
   },
   "outputs": [],
   "source": [
    "dfFearTrain = dfFearTrain.reset_index()\n",
    "dfFearTrain"
   ]
  },
  {
   "cell_type": "code",
   "execution_count": null,
   "metadata": {},
   "outputs": [],
   "source": [
    "dfFearTest = dfFearTest.reset_index()\n",
    "dfFearTest"
   ]
  },
  {
   "cell_type": "markdown",
   "metadata": {
    "id": "fgk5LBKDeCwr"
   },
   "source": [
    "### import Happy"
   ]
  },
  {
   "cell_type": "code",
   "execution_count": null,
   "metadata": {
    "id": "xCaF5MgueCwr"
   },
   "outputs": [],
   "source": [
    "dfHappyTrain = pd.DataFrame(np.array([0 for i in range(2304)]))\n",
    "dfHappyTrain = dfHappyTrain.T\n",
    "for element in os.listdir('/Users/fabiodjs/Desktop/ProjetLaure/Dossier/archive/train/happy'):\n",
    "    img = Image.open('/Users/fabiodjs/Desktop/ProjetLaure/Dossier/archive/train/happy/'+element)\n",
    "    dfHappyTrain = pd.concat([dfHappyTrain,pd.DataFrame(np.array(img.getdata())).T])"
   ]
  },
  {
   "cell_type": "code",
   "execution_count": null,
   "metadata": {},
   "outputs": [],
   "source": [
    "dfHappyTest = pd.DataFrame(np.array([0 for i in range(2304)]))\n",
    "dfHappyTest = dfHappyTest.T\n",
    "for element in os.listdir('/Users/fabiodjs/Desktop/ProjetLaure/Dossier/archive/test/happy'):\n",
    "    img = Image.open('/Users/fabiodjs/Desktop/ProjetLaure/Dossier/archive/test/happy/'+element)\n",
    "    dfHappyTest = pd.concat([dfHappyTest,pd.DataFrame(np.array(img.getdata())).T])"
   ]
  },
  {
   "cell_type": "code",
   "execution_count": null,
   "metadata": {},
   "outputs": [],
   "source": [
    "dfHappyTrain[\"target\"] = 3\n",
    "dfHappyTest[\"target\"] = 3"
   ]
  },
  {
   "cell_type": "code",
   "execution_count": null,
   "metadata": {
    "id": "O2JbeKYFeCws"
   },
   "outputs": [],
   "source": [
    "dfHappyTrain = dfHappyTrain.reset_index()\n",
    "dfHappyTrain"
   ]
  },
  {
   "cell_type": "code",
   "execution_count": null,
   "metadata": {
    "id": "aE3hZq0qeCws",
    "outputId": "8b815f12-63f0-4af8-ef6c-ea0103308d5d"
   },
   "outputs": [],
   "source": [
    "dfHappyTest = dfHappyTest.reset_index()\n",
    "dfHappyTest"
   ]
  },
  {
   "cell_type": "markdown",
   "metadata": {
    "id": "-31JAu9neCws"
   },
   "source": [
    "### import Sad"
   ]
  },
  {
   "cell_type": "code",
   "execution_count": null,
   "metadata": {
    "id": "9cEKu7yqeCws"
   },
   "outputs": [],
   "source": [
    "dfSadTrain = pd.DataFrame(np.array([0 for i in range(2304)]))\n",
    "dfSadTrain = dfSadTrain.T\n",
    "for element in os.listdir('/Users/fabiodjs/Desktop/ProjetLaure/Dossier/archive/train/sad'):\n",
    "    img = Image.open('/Users/fabiodjs/Desktop/ProjetLaure/Dossier/archive/train/sad/'+element)\n",
    "    dfSadTrain = pd.concat([dfSadTrain,pd.DataFrame(np.array(img.getdata())).T])"
   ]
  },
  {
   "cell_type": "code",
   "execution_count": null,
   "metadata": {
    "id": "wjyNBykLeCwt"
   },
   "outputs": [],
   "source": [
    "dfSadTest = pd.DataFrame(np.array([0 for i in range(2304)]))\n",
    "dfSadTest = dfSadTest.T\n",
    "for element in os.listdir('/Users/fabiodjs/Desktop/ProjetLaure/Dossier/archive/test/sad'):\n",
    "    img = Image.open('/Users/fabiodjs/Desktop/ProjetLaure/Dossier/archive/test/sad/'+element)\n",
    "    dfSadTest = pd.concat([dfSadTest,pd.DataFrame(np.array(img.getdata())).T])"
   ]
  },
  {
   "cell_type": "code",
   "execution_count": null,
   "metadata": {
    "id": "DnFLKDdleCwt",
    "outputId": "0e4bd9a4-77a8-47a0-9b76-44025e0f7cae"
   },
   "outputs": [],
   "source": [
    "dfSadTrain[\"target\"] = 4 \n",
    "dfSadTest[\"target\"] = 4"
   ]
  },
  {
   "cell_type": "code",
   "execution_count": null,
   "metadata": {},
   "outputs": [],
   "source": [
    "dfSadTrain = dfSadTrain.reset_index()\n",
    "dfSadTrain"
   ]
  },
  {
   "cell_type": "code",
   "execution_count": null,
   "metadata": {},
   "outputs": [],
   "source": [
    "dfSadTest = dfSadTest.reset_index()\n",
    "dfSadTest"
   ]
  },
  {
   "cell_type": "markdown",
   "metadata": {
    "id": "7UZTQWsneCwt"
   },
   "source": [
    "### import Surprise"
   ]
  },
  {
   "cell_type": "code",
   "execution_count": null,
   "metadata": {
    "id": "7OWcxQiheCwt"
   },
   "outputs": [],
   "source": [
    "dfSurpriseTrain = pd.DataFrame(np.array([0 for i in range(2304)]))\n",
    "dfSurpriseTrain = dfSurpriseTrain.T\n",
    "for element in os.listdir('/Users/fabiodjs/Desktop/ProjetLaure/Dossier/archive/train/surprise'):\n",
    "    img = Image.open('/Users/fabiodjs/Desktop/ProjetLaure/Dossier/archive/train/surprise/'+element)\n",
    "    dfSurpriseTrain = pd.concat([dfSurpriseTrain,pd.DataFrame(np.array(img.getdata())).T])"
   ]
  },
  {
   "cell_type": "code",
   "execution_count": null,
   "metadata": {},
   "outputs": [],
   "source": [
    "dfSurpriseTest = pd.DataFrame(np.array([0 for i in range(2304)]))\n",
    "dfSurpriseTest = dfSurpriseTest.T\n",
    "for element in os.listdir('/Users/fabiodjs/Desktop/ProjetLaure/Dossier/archive/test/surprise'):\n",
    "    img = Image.open('/Users/fabiodjs/Desktop/ProjetLaure/Dossier/archive/test/surprise/'+element)\n",
    "    dfSurpriseTest = pd.concat([dfSurpriseTest,pd.DataFrame(np.array(img.getdata())).T])"
   ]
  },
  {
   "cell_type": "code",
   "execution_count": null,
   "metadata": {},
   "outputs": [],
   "source": [
    "dfSurpriseTrain[\"target\"] = 5\n",
    "dfSurpriseTest[\"target\"] = 5"
   ]
  },
  {
   "cell_type": "code",
   "execution_count": null,
   "metadata": {
    "id": "qG8bDsaJeCwu"
   },
   "outputs": [],
   "source": [
    "dfSurpriseTrain = dfSurpriseTrain.reset_index()\n",
    "dfSurpriseTrain"
   ]
  },
  {
   "cell_type": "code",
   "execution_count": null,
   "metadata": {
    "id": "4oRwWwR6eCwu",
    "outputId": "59fd11fd-82ad-488e-ae65-6d40ff1e07ec"
   },
   "outputs": [],
   "source": [
    "dfSurpriseTest = dfSurpriseTest.reset_index()\n",
    "dfSurpriseTest"
   ]
  },
  {
   "cell_type": "markdown",
   "metadata": {
    "id": "aAE_TqmUeCwu"
   },
   "source": [
    "### import Neutral"
   ]
  },
  {
   "cell_type": "code",
   "execution_count": null,
   "metadata": {
    "id": "116MP4MUeCwu"
   },
   "outputs": [],
   "source": [
    "dfNeutralTrain = pd.DataFrame(np.array([0 for i in range(2304)]))\n",
    "dfNeutralTrain = dfNeutralTrain.T\n",
    "for element in os.listdir('/Users/fabiodjs/Desktop/ProjetLaure/Dossier/archive/train/neutral'):\n",
    "    img = Image.open('/Users/fabiodjs/Desktop/ProjetLaure/Dossier/archive/train/neutral/'+element)\n",
    "    dfNeutralTrain = pd.concat([dfNeutralTrain,pd.DataFrame(np.array(img.getdata())).T])"
   ]
  },
  {
   "cell_type": "code",
   "execution_count": null,
   "metadata": {},
   "outputs": [],
   "source": [
    "dfNeutralTest = pd.DataFrame(np.array([0 for i in range(2304)]))\n",
    "dfNeutralTest = dfNeutralTest.T\n",
    "for element in os.listdir('/Users/fabiodjs/Desktop/ProjetLaure/Dossier/archive/test/neutral'):\n",
    "    img = Image.open('/Users/fabiodjs/Desktop/ProjetLaure/Dossier/archive/test/neutral/'+element)\n",
    "    dfNeutralTest = pd.concat([dfNeutralTest,pd.DataFrame(np.array(img.getdata())).T])"
   ]
  },
  {
   "cell_type": "code",
   "execution_count": null,
   "metadata": {},
   "outputs": [],
   "source": [
    "dfNeutralTrain[\"target\"] = 6\n",
    "dfNeutralTest[\"target\"] = 6"
   ]
  },
  {
   "cell_type": "code",
   "execution_count": null,
   "metadata": {
    "id": "GPLJY7YveCwu"
   },
   "outputs": [],
   "source": [
    "dfNeutralTrain = dfNeutralTrain.reset_index()\n",
    "dfNeutralTrain"
   ]
  },
  {
   "cell_type": "code",
   "execution_count": null,
   "metadata": {
    "id": "0YrslTOyeCwv",
    "outputId": "7775a405-c685-418f-e7d7-e2171e59157f",
    "scrolled": true
   },
   "outputs": [],
   "source": [
    "dfNeutralTest = dfNeutralTest.reset_index()\n",
    "dfNeutralTest"
   ]
  },
  {
   "cell_type": "markdown",
   "metadata": {
    "id": "Ip1ejQ4-eCwv"
   },
   "source": [
    "### création du tableau global"
   ]
  },
  {
   "cell_type": "code",
   "execution_count": null,
   "metadata": {
    "id": "T7Gz1uIIeCwv",
    "outputId": "786e95e0-0d05-4c10-fdb6-bb44e2f9fa7e",
    "scrolled": true
   },
   "outputs": [],
   "source": [
    "dfFinalTrain = pd.concat([dfAngryTrain,dfDisgustTrain,dfFearTrain,dfHappyTrain,dfSadTrain,dfSurpriseTrain,dfNeutralTrain])\n",
    "dfFinalTrain = dfFinalTrain.reset_index()\n",
    "dfFinalTrain"
   ]
  },
  {
   "cell_type": "code",
   "execution_count": null,
   "metadata": {},
   "outputs": [],
   "source": [
    "dfFinalTest = pd.concat([dfAngryTest,dfDisgustTest,dfFearTest,dfHappyTest,dfSadTest,dfSurpriseTest,dfNeutralTest])\n",
    "dfFinalTest = dfFinalTest.reset_index()\n",
    "dfFinalTest"
   ]
  },
  {
   "cell_type": "markdown",
   "metadata": {},
   "source": [
    "# Création des CSV"
   ]
  },
  {
   "cell_type": "code",
   "execution_count": null,
   "metadata": {},
   "outputs": [],
   "source": [
    "dfFinalTrain.to_csv(\"datasetImagesTrain.csv\",index=False)"
   ]
  },
  {
   "cell_type": "code",
   "execution_count": null,
   "metadata": {},
   "outputs": [],
   "source": [
    "dfFinalTest.to_csv(\"datasetImagesTest.csv\",index=False)"
   ]
  },
  {
   "cell_type": "code",
   "execution_count": null,
   "metadata": {},
   "outputs": [],
   "source": [
    "del dfFinalTest[\"level_0\"]\n",
    "del dfFinalTest[\"index\"]\n",
    "\n",
    "del dfFinalTrain[\"level_0\"]\n",
    "del dfFinalTrain[\"index\"]\n",
    "\n",
    "dfFinalTrain.to_csv(\"datasetImagesTrain.csv\", index = False)\n",
    "dfFinalTest.to_csv(\"datasetImagesTest.csv\", index = False)"
   ]
  },
  {
   "cell_type": "markdown",
   "metadata": {},
   "source": [
    "# Lecture fichier CSV"
   ]
  },
  {
   "cell_type": "code",
   "execution_count": 3,
   "metadata": {},
   "outputs": [],
   "source": [
    "dfFinalTrain = pd.read_csv('./datasetImagesTrain.csv')"
   ]
  },
  {
   "cell_type": "code",
   "execution_count": 4,
   "metadata": {},
   "outputs": [],
   "source": [
    "dfFinalTest = pd.read_csv('./datasetImagesTest.csv')"
   ]
  },
  {
   "cell_type": "markdown",
   "metadata": {},
   "source": [
    "# Création des variables nécessaires au fonctionnement du model"
   ]
  },
  {
   "cell_type": "code",
   "execution_count": 5,
   "metadata": {},
   "outputs": [],
   "source": [
    "trainX = dfFinalTrain.loc[:, dfFinalTrain.columns != 'target']\n",
    "trainX = trainX/255.0\n",
    "trainY = dfFinalTrain['target']\n",
    "\n",
    "trainX = trainX.values.reshape(len(trainX),48,48,1)\n",
    "trainY = tf.keras.utils.to_categorical(trainY,7)"
   ]
  },
  {
   "cell_type": "code",
   "execution_count": 6,
   "metadata": {},
   "outputs": [],
   "source": [
    "testX = dfFinalTest.loc[:, dfFinalTest.columns != 'target']\n",
    "testX = testX/255.0\n",
    "testY = dfFinalTest['target']\n",
    "\n",
    "testX = testX.values.reshape(len(testX),48,48,1)\n",
    "testY = tf.keras.utils.to_categorical(testY, )\n",
    "testY = np.argmax(testY , axis=1)"
   ]
  },
  {
   "cell_type": "markdown",
   "metadata": {},
   "source": [
    "# Création du model"
   ]
  },
  {
   "cell_type": "code",
   "execution_count": null,
   "metadata": {},
   "outputs": [],
   "source": [
    "nombreDeClasse = 7\n",
    "img_height = 48\n",
    "img_width = 48\n",
    "img_depth = 1\n",
    "\n",
    "with tf.device('/device:GPU:0'):\n",
    "  model = Sequential()\n",
    "  model.add(Conv2D(filters=64,kernel_size=(3,3),input_shape=(img_height, img_width, img_depth),activation='relu',padding='same'))\n",
    "  model.add(BatchNormalization())\n",
    "  model.add(Conv2D(filters=64,kernel_size=(3,3),activation='relu',padding='same'))\n",
    "  model.add(BatchNormalization())\n",
    "  model.add(MaxPooling2D(pool_size=(2,2)))\n",
    "  model.add(Dropout(0.4))\n",
    "  model.add(Conv2D(filters=128,kernel_size=(3,3),activation='relu',padding='same'))\n",
    "  model.add(BatchNormalization())\n",
    "  model.add(Conv2D(filters=128,kernel_size=(3,3),activation='relu',padding='same'))\n",
    "  model.add(BatchNormalization())\n",
    "  model.add(MaxPooling2D(pool_size=(2,2)))\n",
    "  model.add(Dropout(0.4))\n",
    "  model.add(Conv2D(filters=256,kernel_size=(3,3),activation='relu',padding='same'))\n",
    "  model.add(BatchNormalization())\n",
    "  model.add(Conv2D(filters=256,kernel_size=(3,3),padding='same'))\n",
    "  model.add(BatchNormalization())\n",
    "  model.add(MaxPooling2D(pool_size=(2,2), name='maxpool2d_3'))\n",
    "  model.add(Dropout(0.5))\n",
    "  model.add(Flatten())\n",
    "  model.add(Dense(128,activation='relu'))\n",
    "  model.add(BatchNormalization())\n",
    "  model.add(Dropout(0.6))\n",
    "  model.add(Dense(7,activation='softmax'))\n",
    "  model.compile(loss='categorical_crossentropy',optimizer=keras.optimizers.Adam(learning_rate=0.01),metrics=['accuracy'])\n",
    "  model.summary()"
   ]
  },
  {
   "cell_type": "code",
   "execution_count": null,
   "metadata": {},
   "outputs": [],
   "source": [
    "model.fit(trainX,trainY,epochs=100)"
   ]
  },
  {
   "cell_type": "markdown",
   "metadata": {},
   "source": [
    "# Sauvegarde du model en local"
   ]
  },
  {
   "cell_type": "code",
   "execution_count": null,
   "metadata": {},
   "outputs": [],
   "source": [
    "model.save(\"myModel.h5\")"
   ]
  },
  {
   "cell_type": "markdown",
   "metadata": {},
   "source": [
    "# Importation du model sur le notebook"
   ]
  },
  {
   "cell_type": "code",
   "execution_count": 7,
   "metadata": {},
   "outputs": [],
   "source": [
    "model = keras.models.load_model(\"model63acc.h5\")"
   ]
  },
  {
   "cell_type": "markdown",
   "metadata": {},
   "source": [
    "# Résultats du model sur le test set"
   ]
  },
  {
   "cell_type": "code",
   "execution_count": 8,
   "metadata": {},
   "outputs": [
    {
     "name": "stdout",
     "output_type": "stream",
     "text": [
      "Classification Report\n",
      "              precision    recall  f1-score   support\n",
      "\n",
      "       angry       0.49      0.62      0.55       959\n",
      "     disgust       0.76      0.61      0.68       112\n",
      "        fear       0.51      0.47      0.49      1025\n",
      "       happy       0.84      0.85      0.85      1775\n",
      "         sad       0.50      0.51      0.51      1248\n",
      "    surprise       0.76      0.80      0.78       832\n",
      "     neutral       0.66      0.53      0.59      1234\n",
      "\n",
      "    accuracy                           0.64      7185\n",
      "   macro avg       0.65      0.63      0.63      7185\n",
      "weighted avg       0.65      0.64      0.64      7185\n",
      "\n"
     ]
    }
   ],
   "source": [
    "from sklearn.metrics import classification_report\n",
    "\n",
    "pred = model.predict(testX)\n",
    "pred = np.argmax(pred,axis=1)\n",
    "\n",
    "\n",
    "print('Classification Report')\n",
    "print(classification_report(testY, pred, target_names = [\"angry\" ,\"disgust\" ,\"fear\" ,\"happy\" ,\"sad\" ,\"surprise\" ,\"neutral\" ]))"
   ]
  },
  {
   "cell_type": "code",
   "execution_count": null,
   "metadata": {},
   "outputs": [],
   "source": []
  }
 ],
 "metadata": {
  "colab": {
   "collapsed_sections": [],
   "name": "RattrapageData.ipynb",
   "provenance": []
  },
  "kernelspec": {
   "display_name": "Python 3",
   "language": "python",
   "name": "python3"
  },
  "language_info": {
   "codemirror_mode": {
    "name": "ipython",
    "version": 3
   },
   "file_extension": ".py",
   "mimetype": "text/x-python",
   "name": "python",
   "nbconvert_exporter": "python",
   "pygments_lexer": "ipython3",
   "version": "3.8.5"
  }
 },
 "nbformat": 4,
 "nbformat_minor": 1
}
